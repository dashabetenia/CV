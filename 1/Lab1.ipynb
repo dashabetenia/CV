{
 "cells": [
  {
   "cell_type": "code",
   "execution_count": 64,
   "id": "5878313f",
   "metadata": {},
   "outputs": [],
   "source": [
    "import cv2\n",
    "import numpy as np\n",
    "from time import perf_counter\n",
    "import keyboard\n",
    "from numba import njit"
   ]
  },
  {
   "cell_type": "code",
   "execution_count": 83,
   "id": "4567fb4f",
   "metadata": {},
   "outputs": [],
   "source": [
    "@njit\n",
    "def normal(image):\n",
    "    img_5 = (image - image.min()) / (image.max() - image.min())\n",
    "    return img_5"
   ]
  },
  {
   "cell_type": "code",
   "execution_count": 93,
   "id": "00c5f4de",
   "metadata": {},
   "outputs": [
    {
     "name": "stdout",
     "output_type": "stream",
     "text": [
      "Массив данных после нормировки:\n",
      " [[0.50980395 0.5058824  0.5058824  ... 1.         0.9960785  0.9960785 ]\n",
      " [0.50980395 0.50980395 0.50980395 ... 1.         0.9960785  0.9960785 ]\n",
      " [0.5137255  0.5137255  0.5137255  ... 0.9960785  0.9960785  0.9960785 ]\n",
      " ...\n",
      " [0.40784317 0.41960788 0.427451   ... 0.3647059  0.36078432 0.3647059 ]\n",
      " [0.41176474 0.41960788 0.427451   ... 0.36078432 0.36862746 0.36862746]\n",
      " [0.41960788 0.42352945 0.43137258 ... 0.3529412  0.3647059  0.3647059 ]]\n",
      "Время обработки с помощью OpenCV:  0.013502300000254763\n",
      "Время обработки нативно на Python:  0.023838399998567184\n",
      "Время обработки с использованием Numba:  0.018791300000884803\n"
     ]
    }
   ],
   "source": [
    "while True:\n",
    "    if keyboard.is_pressed('1'): # цветное изображение\n",
    "        img = cv2.imread('3.jpg')\n",
    "        cv2.imshow('Color Image',img)\n",
    "        cv2.waitKey(0)\n",
    "        cv2.destroyAllWindows()\n",
    "        \n",
    "    elif keyboard.is_pressed('2'): # черно-белое изображение\n",
    "        img = cv2.imread('3.jpg', 0)\n",
    "        cv2.imshow('Gray Image',img)\n",
    "        cv2.waitKey(0)\n",
    "        cv2.destroyAllWindows()\n",
    "        cv2.imwrite(\"2.png\", img)\n",
    "        \n",
    "    elif keyboard.is_pressed('3'): # нормирование с помощью OpenCV \n",
    "        start = perf_counter()\n",
    "        img = cv2.imread('3.jpg', 0)\n",
    "        img_3 = cv2.normalize(img, None, 0, 1.0, cv2.NORM_MINMAX, dtype=cv2.CV_32F)\n",
    "        end = perf_counter()\n",
    "        print(\"Массив данных после нормировки:\\n\", img_3)\n",
    "        print('Время обработки с помощью OpenCV: ',end-start)\n",
    "        cv2.imshow('Normalized Image', img_3)\n",
    "        cv2.waitKey(0)\n",
    "        cv2.destroyAllWindows()\n",
    "    \n",
    "    elif keyboard.is_pressed('4'): # нормирование нативно на Python \n",
    "        start = perf_counter()\n",
    "        img = cv2.imread('3.jpg', 0)\n",
    "        img_4 = (img - img.min()) / (img.max() - img.min())\n",
    "        end = perf_counter()\n",
    "        print('Время обработки нативно на Python: ',end-start)\n",
    "        cv2.imshow('Normalized Image', img_4)\n",
    "        cv2.waitKey(0)\n",
    "        cv2.destroyAllWindows()\n",
    "    \n",
    "    elif keyboard.is_pressed('5'): # нормирование с использованием Numba \n",
    "        start = perf_counter()\n",
    "        img = cv2.imread('3.jpg', 0)\n",
    "        img_5 = normal(img)\n",
    "        end = perf_counter()\n",
    "        print('Время обработки с использованием Numba: ',end-start)\n",
    "        cv2.imshow('Normalized Image', img_5)\n",
    "        cv2.waitKey(0)\n",
    "        cv2.destroyAllWindows()\n",
    "          \n",
    "    elif keyboard.is_pressed('6'):\n",
    "        break"
   ]
  },
  {
   "cell_type": "code",
   "execution_count": null,
   "id": "539a4ff3",
   "metadata": {},
   "outputs": [],
   "source": [
    "# Другой способ перевести цветное изображение в черно-белое\n",
    "'''def rgb2gray(rgb): \n",
    "    r, g, b = rgb[:,:,0], rgb[:,:,1], rgb[:,:,2]\n",
    "    gray = 0.2989 * r + 0.5870 * g + 0.1140 * b12\n",
    "    return np.uint8(gray)\n",
    "\n",
    "rgb_img = cv2.cvtColor(img,cv2.COLOR_BGR2RGB)\n",
    "gray_img = rgb2gray(rgb_img)'''"
   ]
  }
 ],
 "metadata": {
  "kernelspec": {
   "display_name": "Python 3 (ipykernel)",
   "language": "python",
   "name": "python3"
  },
  "language_info": {
   "codemirror_mode": {
    "name": "ipython",
    "version": 3
   },
   "file_extension": ".py",
   "mimetype": "text/x-python",
   "name": "python",
   "nbconvert_exporter": "python",
   "pygments_lexer": "ipython3",
   "version": "3.9.12"
  }
 },
 "nbformat": 4,
 "nbformat_minor": 5
}
