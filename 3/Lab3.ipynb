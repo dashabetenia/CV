{
 "cells": [
  {
   "cell_type": "code",
   "execution_count": 6,
   "id": "6ebc2964",
   "metadata": {},
   "outputs": [],
   "source": [
    "import torch\n",
    "from torchvision import transforms\n",
    "import timm #  модуль для использования предварительно обученных моделей\n",
    "from PIL import Image\n",
    "import numpy as np\n",
    "import os\n",
    "from tqdm import tqdm # для отображения прогресса выполнения кода\n",
    "from timeit import default_timer as timer"
   ]
  },
  {
   "cell_type": "code",
   "execution_count": 7,
   "id": "ac3ce305",
   "metadata": {},
   "outputs": [],
   "source": [
    "# создаем объект для преобразования изображения\n",
    "_transform=transforms.Compose([\n",
    "                       transforms.Resize((224,224)),  # изменяем размер изображения до 224x224\n",
    "                       transforms.ToTensor(),  # преобразуем изображение в тензор\n",
    "                       transforms.Normalize([0.5, 0.5, 0.5], [0.5, 0.5, 0.5])])  # нормализуем значения пикселей\n",
    "\n",
    "# функция для чтения изображения\n",
    "def read_img_file(f):\n",
    "    img = Image.open(f)  # открываем изображение\n",
    "    img=img.convert('RGB')  # преобразуем в формат RGB\n",
    "    return img"
   ]
  },
  {
   "cell_type": "code",
   "execution_count": 8,
   "id": "5abd3da7",
   "metadata": {},
   "outputs": [
    {
     "name": "stdout",
     "output_type": "stream",
     "text": [
      "using cpu\n"
     ]
    },
    {
     "name": "stderr",
     "output_type": "stream",
     "text": [
      "100%|██████████████████████████████████████████████████████████████████████████████████| 10/10 [00:28<00:00,  2.84s/it]\n"
     ]
    },
    {
     "name": "stdout",
     "output_type": "stream",
     "text": [
      " acc5 = 0.84 acc1 = 0.6\n",
      "time: 8.761995400003798\n",
      "using cpu\n"
     ]
    },
    {
     "name": "stderr",
     "output_type": "stream",
     "text": [
      "100%|██████████████████████████████████████████████████████████████████████████████████| 10/10 [00:37<00:00,  3.77s/it]\n"
     ]
    },
    {
     "name": "stdout",
     "output_type": "stream",
     "text": [
      " acc5 = 0.88 acc1 = 0.6\n",
      "time: 17.799644600008833\n",
      "using cpu\n"
     ]
    },
    {
     "name": "stderr",
     "output_type": "stream",
     "text": [
      "100%|██████████████████████████████████████████████████████████████████████████████████| 10/10 [00:25<00:00,  2.58s/it]"
     ]
    },
    {
     "name": "stdout",
     "output_type": "stream",
     "text": [
      " acc5 = 0.9 acc1 = 0.58\n",
      "time: 6.468407499998648\n"
     ]
    },
    {
     "name": "stderr",
     "output_type": "stream",
     "text": [
      "\n"
     ]
    }
   ],
   "source": [
    "# список моделей для тестирования\n",
    "models = [\"tf_efficientnetv2_m_in21k\", \"vit_base_patch16_224_in21k\", \"resnetv2_50x1_bitm_in21k\"]\n",
    "\n",
    "# открываем файл с классами изображений\n",
    "with open(\"./imagenet21k_wordnet_lemmas.txt\") as f:\n",
    "    classes = [line.strip() for line in f.readlines()]\n",
    "\n",
    "# получаем список папок с изображениями для тестирования\n",
    "folders = os.listdir(\"./dataset/\")\n",
    "\n",
    "# пробегаем по каждой модели\n",
    "for model_name in models:\n",
    "    # определяем устройство, на котором будет выполняться вычисление\n",
    "    device = \"cuda\" if torch.cuda.is_available() else \"cpu\"\n",
    "    print(f\"using {device}\")\n",
    "     # Создаем модель, используя timm и загружаем предварительно обученные веса\n",
    "    model = timm.create_model(model_name, pretrained=True)\n",
    "    # Переводим модель в режим оценки\n",
    "    model.eval()\n",
    "    # Перемещаем модель на устройство (GPU или CPU), на котором происходят вычисления\n",
    "    model.to(device)\n",
    "    # инициализируем счетчики\n",
    "    tp = 0 # количество правильно угаданных классов\n",
    "    tp_5 = 0 # количество правильно угаданных классов с учетом пяти наиболее вероятных классов\n",
    "    _time = 0 # время работы модели\n",
    "    \n",
    "    # пробегаем по каждой папке с изображениями\n",
    "    for folder_name in tqdm(folders):    \n",
    "        files = os.listdir(\"./dataset/\"+folder_name)\n",
    "        # пробегаем по каждому изображению в папке\n",
    "        for file_name in files:\n",
    "            img = read_img_file(\"./dataset/\"+folder_name+\"/\"+file_name)\n",
    "            with torch.no_grad(): # Применяем преобразования к изображению\n",
    "                img = _transform(img)\n",
    "                img = torch.unsqueeze(img, 0)\n",
    "                img = img.to(device)\n",
    "                # запускаем модель на изображении\n",
    "                start = timer() # Засекаем время для измерения скорости работы модели\n",
    "                x = model(img) # Прогоняем изображение через модель и получаем предсказания\n",
    "                end = timer() # Останавливаем замер времени\n",
    "                _time+=(end - start) # Добавляем время работы модели к общему времени\n",
    "                # Применяем функцию softmax для получения вероятностей предсказаний\n",
    "                x = torch.nn.functional.softmax(x, dim=1) * 100 \n",
    "                top_5 = torch.topk(x, 5)  # Получаем 5 наиболее вероятных предсказани\n",
    "            preds = []\n",
    "            # Получаем метки классов для каждого из наиболее вероятных предсказаний\n",
    "            for x in top_5.indices[0]:\n",
    "                preds.append(classes[int(x)])\n",
    "             # Проверяем, есть ли метка класса папки среди наиболее вероятных предсказаний\n",
    "            if folder_name in preds[0]:\n",
    "                tp+=1\n",
    "           # Проверяем, есть ли метка класса папки среди наиболее вероятных предсказаний в топ-5     \n",
    "            for pred in preds:\n",
    "                if folder_name in pred:\n",
    "                    tp_5+=1\n",
    "                    break\n",
    "    # Выводим точность предсказания и время работы модели\n",
    "    print(f\" acc5 = {tp_5/50} acc1 = {tp/50}\")\n",
    "    print(f\"time: {_time}\")"
   ]
  }
 ],
 "metadata": {
  "kernelspec": {
   "display_name": "Python 3 (ipykernel)",
   "language": "python",
   "name": "python3"
  },
  "language_info": {
   "codemirror_mode": {
    "name": "ipython",
    "version": 3
   },
   "file_extension": ".py",
   "mimetype": "text/x-python",
   "name": "python",
   "nbconvert_exporter": "python",
   "pygments_lexer": "ipython3",
   "version": "3.9.12"
  }
 },
 "nbformat": 4,
 "nbformat_minor": 5
}
